{
 "cells": [
  {
   "cell_type": "code",
   "execution_count": 179,
   "metadata": {},
   "outputs": [],
   "source": [
    "import pandas as pd\n",
    "import numpy as np"
   ]
  },
  {
   "cell_type": "code",
   "execution_count": 180,
   "metadata": {},
   "outputs": [],
   "source": [
    "data=pd.read_csv(\"data_train.csv\")"
   ]
  },
  {
   "cell_type": "code",
   "execution_count": 181,
   "metadata": {},
   "outputs": [
    {
     "data": {
      "text/html": [
       "<div>\n",
       "<style scoped>\n",
       "    .dataframe tbody tr th:only-of-type {\n",
       "        vertical-align: middle;\n",
       "    }\n",
       "\n",
       "    .dataframe tbody tr th {\n",
       "        vertical-align: top;\n",
       "    }\n",
       "\n",
       "    .dataframe thead th {\n",
       "        text-align: right;\n",
       "    }\n",
       "</style>\n",
       "<table border=\"1\" class=\"dataframe\">\n",
       "  <thead>\n",
       "    <tr style=\"text-align: right;\">\n",
       "      <th></th>\n",
       "      <th>Air Service</th>\n",
       "      <th>Flight Direction/Routine</th>\n",
       "      <th>About</th>\n",
       "      <th>Layover</th>\n",
       "      <th>Time span</th>\n",
       "      <th>Cost</th>\n",
       "      <th>Flight Date</th>\n",
       "      <th>Start</th>\n",
       "      <th>Stop</th>\n",
       "      <th>Take off time</th>\n",
       "      <th>Landing time</th>\n",
       "    </tr>\n",
       "  </thead>\n",
       "  <tbody>\n",
       "    <tr>\n",
       "      <th>0</th>\n",
       "      <td>IndiGo</td>\n",
       "      <td>BLR → DEL</td>\n",
       "      <td>No info</td>\n",
       "      <td>non-stop</td>\n",
       "      <td>2h 50m</td>\n",
       "      <td>3897</td>\n",
       "      <td>24/03/2019</td>\n",
       "      <td>Banglore</td>\n",
       "      <td>New Delhi</td>\n",
       "      <td>22:20</td>\n",
       "      <td>01:10 22 Mar</td>\n",
       "    </tr>\n",
       "    <tr>\n",
       "      <th>1</th>\n",
       "      <td>Air India</td>\n",
       "      <td>CCU → IXR → BBI → BLR</td>\n",
       "      <td>No info</td>\n",
       "      <td>2 stops</td>\n",
       "      <td>7h 25m</td>\n",
       "      <td>7662</td>\n",
       "      <td>1/05/2019</td>\n",
       "      <td>Kolkata</td>\n",
       "      <td>Banglore</td>\n",
       "      <td>05:50</td>\n",
       "      <td>13:15</td>\n",
       "    </tr>\n",
       "    <tr>\n",
       "      <th>2</th>\n",
       "      <td>Jet Airways</td>\n",
       "      <td>DEL → LKO → BOM → COK</td>\n",
       "      <td>No info</td>\n",
       "      <td>2 stops</td>\n",
       "      <td>19h</td>\n",
       "      <td>13882</td>\n",
       "      <td>9/06/2019</td>\n",
       "      <td>Delhi</td>\n",
       "      <td>Cochin</td>\n",
       "      <td>09:25</td>\n",
       "      <td>04:25 10 Jun</td>\n",
       "    </tr>\n",
       "    <tr>\n",
       "      <th>3</th>\n",
       "      <td>IndiGo</td>\n",
       "      <td>CCU → NAG → BLR</td>\n",
       "      <td>No info</td>\n",
       "      <td>1 stop</td>\n",
       "      <td>5h 25m</td>\n",
       "      <td>6218</td>\n",
       "      <td>12/05/2019</td>\n",
       "      <td>Kolkata</td>\n",
       "      <td>Banglore</td>\n",
       "      <td>18:05</td>\n",
       "      <td>23:30</td>\n",
       "    </tr>\n",
       "    <tr>\n",
       "      <th>4</th>\n",
       "      <td>IndiGo</td>\n",
       "      <td>BLR → NAG → DEL</td>\n",
       "      <td>No info</td>\n",
       "      <td>1 stop</td>\n",
       "      <td>4h 45m</td>\n",
       "      <td>13302</td>\n",
       "      <td>01/03/2019</td>\n",
       "      <td>Banglore</td>\n",
       "      <td>New Delhi</td>\n",
       "      <td>16:50</td>\n",
       "      <td>21:35</td>\n",
       "    </tr>\n",
       "  </tbody>\n",
       "</table>\n",
       "</div>"
      ],
      "text/plain": [
       "   Air Service Flight Direction/Routine    About   Layover Time span   Cost  \\\n",
       "0       IndiGo                BLR → DEL  No info  non-stop    2h 50m   3897   \n",
       "1    Air India    CCU → IXR → BBI → BLR  No info   2 stops    7h 25m   7662   \n",
       "2  Jet Airways    DEL → LKO → BOM → COK  No info   2 stops       19h  13882   \n",
       "3       IndiGo          CCU → NAG → BLR  No info    1 stop    5h 25m   6218   \n",
       "4       IndiGo          BLR → NAG → DEL  No info    1 stop    4h 45m  13302   \n",
       "\n",
       "  Flight Date     Start       Stop Take off time  Landing time  \n",
       "0  24/03/2019  Banglore  New Delhi         22:20  01:10 22 Mar  \n",
       "1   1/05/2019   Kolkata   Banglore         05:50         13:15  \n",
       "2   9/06/2019     Delhi     Cochin         09:25  04:25 10 Jun  \n",
       "3  12/05/2019   Kolkata   Banglore         18:05         23:30  \n",
       "4  01/03/2019  Banglore  New Delhi         16:50         21:35  "
      ]
     },
     "execution_count": 181,
     "metadata": {},
     "output_type": "execute_result"
    }
   ],
   "source": [
    "data.head()"
   ]
  },
  {
   "cell_type": "markdown",
   "metadata": {},
   "source": [
    "### Data understanding and basic cleaning (checking for null values)"
   ]
  },
  {
   "cell_type": "code",
   "execution_count": 182,
   "metadata": {},
   "outputs": [
    {
     "data": {
      "text/plain": [
       "(10683, 11)"
      ]
     },
     "execution_count": 182,
     "metadata": {},
     "output_type": "execute_result"
    }
   ],
   "source": [
    "data.shape"
   ]
  },
  {
   "cell_type": "code",
   "execution_count": 183,
   "metadata": {},
   "outputs": [
    {
     "data": {
      "text/html": [
       "<div>\n",
       "<style scoped>\n",
       "    .dataframe tbody tr th:only-of-type {\n",
       "        vertical-align: middle;\n",
       "    }\n",
       "\n",
       "    .dataframe tbody tr th {\n",
       "        vertical-align: top;\n",
       "    }\n",
       "\n",
       "    .dataframe thead th {\n",
       "        text-align: right;\n",
       "    }\n",
       "</style>\n",
       "<table border=\"1\" class=\"dataframe\">\n",
       "  <thead>\n",
       "    <tr style=\"text-align: right;\">\n",
       "      <th></th>\n",
       "      <th>Air Service</th>\n",
       "      <th>Flight Direction/Routine</th>\n",
       "      <th>About</th>\n",
       "      <th>Layover</th>\n",
       "      <th>Time span</th>\n",
       "      <th>Cost</th>\n",
       "      <th>Flight Date</th>\n",
       "      <th>Start</th>\n",
       "      <th>Stop</th>\n",
       "      <th>Take off time</th>\n",
       "      <th>Landing time</th>\n",
       "    </tr>\n",
       "  </thead>\n",
       "  <tbody>\n",
       "    <tr>\n",
       "      <th>9783</th>\n",
       "      <td>IndiGo</td>\n",
       "      <td>DEL → HYD → COK</td>\n",
       "      <td>No info</td>\n",
       "      <td>1 stop</td>\n",
       "      <td>4h 35m</td>\n",
       "      <td>5073</td>\n",
       "      <td>27/04/2019</td>\n",
       "      <td>Delhi</td>\n",
       "      <td>Cochin</td>\n",
       "      <td>07:35</td>\n",
       "      <td>12:10</td>\n",
       "    </tr>\n",
       "    <tr>\n",
       "      <th>3706</th>\n",
       "      <td>Air India</td>\n",
       "      <td>CCU → DEL → BLR</td>\n",
       "      <td>No info</td>\n",
       "      <td>1 stop</td>\n",
       "      <td>26h 45m</td>\n",
       "      <td>10808</td>\n",
       "      <td>24/03/2019</td>\n",
       "      <td>Kolkata</td>\n",
       "      <td>Banglore</td>\n",
       "      <td>20:30</td>\n",
       "      <td>23:15 25 Mar</td>\n",
       "    </tr>\n",
       "    <tr>\n",
       "      <th>3234</th>\n",
       "      <td>SpiceJet</td>\n",
       "      <td>CCU → PNQ → BLR</td>\n",
       "      <td>No info</td>\n",
       "      <td>1 stop</td>\n",
       "      <td>8h 40m</td>\n",
       "      <td>6013</td>\n",
       "      <td>1/04/2019</td>\n",
       "      <td>Kolkata</td>\n",
       "      <td>Banglore</td>\n",
       "      <td>08:35</td>\n",
       "      <td>17:15</td>\n",
       "    </tr>\n",
       "    <tr>\n",
       "      <th>4574</th>\n",
       "      <td>SpiceJet</td>\n",
       "      <td>MAA → CCU</td>\n",
       "      <td>No info</td>\n",
       "      <td>non-stop</td>\n",
       "      <td>2h 15m</td>\n",
       "      <td>3597</td>\n",
       "      <td>3/05/2019</td>\n",
       "      <td>Chennai</td>\n",
       "      <td>Kolkata</td>\n",
       "      <td>08:20</td>\n",
       "      <td>10:35</td>\n",
       "    </tr>\n",
       "    <tr>\n",
       "      <th>1139</th>\n",
       "      <td>Jet Airways</td>\n",
       "      <td>CCU → BOM → BLR</td>\n",
       "      <td>In-flight meal not included</td>\n",
       "      <td>1 stop</td>\n",
       "      <td>14h 50m</td>\n",
       "      <td>9663</td>\n",
       "      <td>12/05/2019</td>\n",
       "      <td>Kolkata</td>\n",
       "      <td>Banglore</td>\n",
       "      <td>21:10</td>\n",
       "      <td>12:00 13 May</td>\n",
       "    </tr>\n",
       "  </tbody>\n",
       "</table>\n",
       "</div>"
      ],
      "text/plain": [
       "      Air Service Flight Direction/Routine                        About  \\\n",
       "9783       IndiGo          DEL → HYD → COK                      No info   \n",
       "3706    Air India          CCU → DEL → BLR                      No info   \n",
       "3234     SpiceJet          CCU → PNQ → BLR                      No info   \n",
       "4574     SpiceJet                MAA → CCU                      No info   \n",
       "1139  Jet Airways          CCU → BOM → BLR  In-flight meal not included   \n",
       "\n",
       "       Layover Time span   Cost Flight Date    Start      Stop Take off time  \\\n",
       "9783    1 stop    4h 35m   5073  27/04/2019    Delhi    Cochin         07:35   \n",
       "3706    1 stop   26h 45m  10808  24/03/2019  Kolkata  Banglore         20:30   \n",
       "3234    1 stop    8h 40m   6013   1/04/2019  Kolkata  Banglore         08:35   \n",
       "4574  non-stop    2h 15m   3597   3/05/2019  Chennai   Kolkata         08:20   \n",
       "1139    1 stop   14h 50m   9663  12/05/2019  Kolkata  Banglore         21:10   \n",
       "\n",
       "      Landing time  \n",
       "9783         12:10  \n",
       "3706  23:15 25 Mar  \n",
       "3234         17:15  \n",
       "4574         10:35  \n",
       "1139  12:00 13 May  "
      ]
     },
     "execution_count": 183,
     "metadata": {},
     "output_type": "execute_result"
    }
   ],
   "source": [
    "data.sample(5)"
   ]
  },
  {
   "cell_type": "code",
   "execution_count": 184,
   "metadata": {},
   "outputs": [
    {
     "name": "stdout",
     "output_type": "stream",
     "text": [
      "Null values in df are Air Service                 0\n",
      "Flight Direction/Routine    1\n",
      "About                       0\n",
      "Layover                     1\n",
      "Time span                   0\n",
      "Cost                        0\n",
      "Flight Date                 0\n",
      "Start                       0\n",
      "Stop                        0\n",
      "Take off time               0\n",
      "Landing time                0\n",
      "dtype: int64\n"
     ]
    }
   ],
   "source": [
    "nullcount=data.isnull().sum()\n",
    "print(\"Null values in df are {}\".format(nullcount))"
   ]
  },
  {
   "cell_type": "code",
   "execution_count": 185,
   "metadata": {},
   "outputs": [
    {
     "data": {
      "text/html": [
       "<div>\n",
       "<style scoped>\n",
       "    .dataframe tbody tr th:only-of-type {\n",
       "        vertical-align: middle;\n",
       "    }\n",
       "\n",
       "    .dataframe tbody tr th {\n",
       "        vertical-align: top;\n",
       "    }\n",
       "\n",
       "    .dataframe thead th {\n",
       "        text-align: right;\n",
       "    }\n",
       "</style>\n",
       "<table border=\"1\" class=\"dataframe\">\n",
       "  <thead>\n",
       "    <tr style=\"text-align: right;\">\n",
       "      <th></th>\n",
       "      <th>Air Service</th>\n",
       "      <th>About</th>\n",
       "      <th>Time span</th>\n",
       "      <th>Cost</th>\n",
       "      <th>Flight Date</th>\n",
       "      <th>Start</th>\n",
       "      <th>Stop</th>\n",
       "      <th>Take off time</th>\n",
       "      <th>Landing time</th>\n",
       "    </tr>\n",
       "  </thead>\n",
       "  <tbody>\n",
       "    <tr>\n",
       "      <th>0</th>\n",
       "      <td>IndiGo</td>\n",
       "      <td>No info</td>\n",
       "      <td>2h 50m</td>\n",
       "      <td>3897</td>\n",
       "      <td>24/03/2019</td>\n",
       "      <td>Banglore</td>\n",
       "      <td>New Delhi</td>\n",
       "      <td>22:20</td>\n",
       "      <td>01:10 22 Mar</td>\n",
       "    </tr>\n",
       "    <tr>\n",
       "      <th>1</th>\n",
       "      <td>Air India</td>\n",
       "      <td>No info</td>\n",
       "      <td>7h 25m</td>\n",
       "      <td>7662</td>\n",
       "      <td>1/05/2019</td>\n",
       "      <td>Kolkata</td>\n",
       "      <td>Banglore</td>\n",
       "      <td>05:50</td>\n",
       "      <td>13:15</td>\n",
       "    </tr>\n",
       "    <tr>\n",
       "      <th>2</th>\n",
       "      <td>Jet Airways</td>\n",
       "      <td>No info</td>\n",
       "      <td>19h</td>\n",
       "      <td>13882</td>\n",
       "      <td>9/06/2019</td>\n",
       "      <td>Delhi</td>\n",
       "      <td>Cochin</td>\n",
       "      <td>09:25</td>\n",
       "      <td>04:25 10 Jun</td>\n",
       "    </tr>\n",
       "    <tr>\n",
       "      <th>3</th>\n",
       "      <td>IndiGo</td>\n",
       "      <td>No info</td>\n",
       "      <td>5h 25m</td>\n",
       "      <td>6218</td>\n",
       "      <td>12/05/2019</td>\n",
       "      <td>Kolkata</td>\n",
       "      <td>Banglore</td>\n",
       "      <td>18:05</td>\n",
       "      <td>23:30</td>\n",
       "    </tr>\n",
       "    <tr>\n",
       "      <th>4</th>\n",
       "      <td>IndiGo</td>\n",
       "      <td>No info</td>\n",
       "      <td>4h 45m</td>\n",
       "      <td>13302</td>\n",
       "      <td>01/03/2019</td>\n",
       "      <td>Banglore</td>\n",
       "      <td>New Delhi</td>\n",
       "      <td>16:50</td>\n",
       "      <td>21:35</td>\n",
       "    </tr>\n",
       "    <tr>\n",
       "      <th>...</th>\n",
       "      <td>...</td>\n",
       "      <td>...</td>\n",
       "      <td>...</td>\n",
       "      <td>...</td>\n",
       "      <td>...</td>\n",
       "      <td>...</td>\n",
       "      <td>...</td>\n",
       "      <td>...</td>\n",
       "      <td>...</td>\n",
       "    </tr>\n",
       "    <tr>\n",
       "      <th>10678</th>\n",
       "      <td>Air Asia</td>\n",
       "      <td>No info</td>\n",
       "      <td>2h 30m</td>\n",
       "      <td>4107</td>\n",
       "      <td>9/04/2019</td>\n",
       "      <td>Kolkata</td>\n",
       "      <td>Banglore</td>\n",
       "      <td>19:55</td>\n",
       "      <td>22:25</td>\n",
       "    </tr>\n",
       "    <tr>\n",
       "      <th>10679</th>\n",
       "      <td>Air India</td>\n",
       "      <td>No info</td>\n",
       "      <td>2h 35m</td>\n",
       "      <td>4145</td>\n",
       "      <td>27/04/2019</td>\n",
       "      <td>Kolkata</td>\n",
       "      <td>Banglore</td>\n",
       "      <td>20:45</td>\n",
       "      <td>23:20</td>\n",
       "    </tr>\n",
       "    <tr>\n",
       "      <th>10680</th>\n",
       "      <td>Jet Airways</td>\n",
       "      <td>No info</td>\n",
       "      <td>3h</td>\n",
       "      <td>7229</td>\n",
       "      <td>27/04/2019</td>\n",
       "      <td>Banglore</td>\n",
       "      <td>Delhi</td>\n",
       "      <td>08:20</td>\n",
       "      <td>11:20</td>\n",
       "    </tr>\n",
       "    <tr>\n",
       "      <th>10681</th>\n",
       "      <td>Vistara</td>\n",
       "      <td>No info</td>\n",
       "      <td>2h 40m</td>\n",
       "      <td>12648</td>\n",
       "      <td>01/03/2019</td>\n",
       "      <td>Banglore</td>\n",
       "      <td>New Delhi</td>\n",
       "      <td>11:30</td>\n",
       "      <td>14:10</td>\n",
       "    </tr>\n",
       "    <tr>\n",
       "      <th>10682</th>\n",
       "      <td>Air India</td>\n",
       "      <td>No info</td>\n",
       "      <td>8h 20m</td>\n",
       "      <td>11753</td>\n",
       "      <td>9/05/2019</td>\n",
       "      <td>Delhi</td>\n",
       "      <td>Cochin</td>\n",
       "      <td>10:55</td>\n",
       "      <td>19:15</td>\n",
       "    </tr>\n",
       "  </tbody>\n",
       "</table>\n",
       "<p>10683 rows × 9 columns</p>\n",
       "</div>"
      ],
      "text/plain": [
       "       Air Service    About Time span   Cost Flight Date     Start       Stop  \\\n",
       "0           IndiGo  No info    2h 50m   3897  24/03/2019  Banglore  New Delhi   \n",
       "1        Air India  No info    7h 25m   7662   1/05/2019   Kolkata   Banglore   \n",
       "2      Jet Airways  No info       19h  13882   9/06/2019     Delhi     Cochin   \n",
       "3           IndiGo  No info    5h 25m   6218  12/05/2019   Kolkata   Banglore   \n",
       "4           IndiGo  No info    4h 45m  13302  01/03/2019  Banglore  New Delhi   \n",
       "...            ...      ...       ...    ...         ...       ...        ...   \n",
       "10678     Air Asia  No info    2h 30m   4107   9/04/2019   Kolkata   Banglore   \n",
       "10679    Air India  No info    2h 35m   4145  27/04/2019   Kolkata   Banglore   \n",
       "10680  Jet Airways  No info        3h   7229  27/04/2019  Banglore      Delhi   \n",
       "10681      Vistara  No info    2h 40m  12648  01/03/2019  Banglore  New Delhi   \n",
       "10682    Air India  No info    8h 20m  11753   9/05/2019     Delhi     Cochin   \n",
       "\n",
       "      Take off time  Landing time  \n",
       "0             22:20  01:10 22 Mar  \n",
       "1             05:50         13:15  \n",
       "2             09:25  04:25 10 Jun  \n",
       "3             18:05         23:30  \n",
       "4             16:50         21:35  \n",
       "...             ...           ...  \n",
       "10678         19:55         22:25  \n",
       "10679         20:45         23:20  \n",
       "10680         08:20         11:20  \n",
       "10681         11:30         14:10  \n",
       "10682         10:55         19:15  \n",
       "\n",
       "[10683 rows x 9 columns]"
      ]
     },
     "execution_count": 185,
     "metadata": {},
     "output_type": "execute_result"
    }
   ],
   "source": [
    "data.dropna(axis=1)"
   ]
  },
  {
   "cell_type": "code",
   "execution_count": 186,
   "metadata": {},
   "outputs": [
    {
     "name": "stdout",
     "output_type": "stream",
     "text": [
      "Null values in df after dropping are Air Service                 0\n",
      "Flight Direction/Routine    1\n",
      "About                       0\n",
      "Layover                     1\n",
      "Time span                   0\n",
      "Cost                        0\n",
      "Flight Date                 0\n",
      "Start                       0\n",
      "Stop                        0\n",
      "Take off time               0\n",
      "Landing time                0\n",
      "dtype: int64\n"
     ]
    }
   ],
   "source": [
    "nullcountafter=data.isnull().sum()\n",
    "print(\"Null values in df after dropping are {}\".format(nullcountafter))"
   ]
  },
  {
   "cell_type": "code",
   "execution_count": 187,
   "metadata": {},
   "outputs": [
    {
     "name": "stdout",
     "output_type": "stream",
     "text": [
      "10683\n"
     ]
    }
   ],
   "source": [
    "duprows=data.duplicated(keep='last')\n",
    "print(len(duprows))"
   ]
  },
  {
   "cell_type": "code",
   "execution_count": 188,
   "metadata": {},
   "outputs": [
    {
     "name": "stdout",
     "output_type": "stream",
     "text": [
      "     Flight Direction/Routine Layover\n",
      "9039                      NaN     NaN\n"
     ]
    }
   ],
   "source": [
    "null_columns=data.columns[data.isnull().any()]\n",
    "data[null_columns].isnull().sum()\n",
    "print(data[data[\"Layover\"].isnull()][null_columns])"
   ]
  },
  {
   "cell_type": "code",
   "execution_count": 189,
   "metadata": {},
   "outputs": [],
   "source": [
    "data=data.dropna(axis=0, how='any', thresh=None, subset=None, inplace=False)"
   ]
  },
  {
   "cell_type": "markdown",
   "metadata": {},
   "source": [
    "### Scaling and normalizing data"
   ]
  },
  {
   "cell_type": "code",
   "execution_count": 190,
   "metadata": {},
   "outputs": [],
   "source": [
    "from scipy import stats\n",
    "from mlxtend.preprocessing import minmax_scaling\n",
    "import seaborn as sns\n",
    "import matplotlib.pyplot as plt"
   ]
  },
  {
   "cell_type": "code",
   "execution_count": 191,
   "metadata": {},
   "outputs": [],
   "source": [
    "np.random.seed(0)"
   ]
  },
  {
   "cell_type": "code",
   "execution_count": 192,
   "metadata": {},
   "outputs": [
    {
     "data": {
      "text/plain": [
       "Text(0.5, 1.0, 'Scaled data')"
      ]
     },
     "execution_count": 192,
     "metadata": {},
     "output_type": "execute_result"
    },
    {
     "data": {
      "image/png": "[encoded data removed]",
      "text/plain": [
       "<Figure size 432x288 with 2 Axes>"
      ]
     },
     "metadata": {
      "needs_background": "light"
     },
     "output_type": "display_data"
    }
   ],
   "source": [
    "odata=np.random.exponential(size=1000)\n",
    "sdata=minmax_scaling(odata,columns=[0])\n",
    "fig, ax=plt.subplots(1,2)\n",
    "sns.distplot(odata, ax=ax[0])\n",
    "ax[0].set_title(\"Original Data\")\n",
    "sns.distplot(sdata, ax=ax[1])\n",
    "ax[1].set_title(\"Scaled data\")"
   ]
  },
  {
   "cell_type": "code",
   "execution_count": 193,
   "metadata": {},
   "outputs": [
    {
     "data": {
      "text/plain": [
       "Text(0.5, 1.0, 'Normalized data')"
      ]
     },
     "execution_count": 193,
     "metadata": {},
     "output_type": "execute_result"
    },
    {
     "data": {
      "image/png": "[encoded data removed]",
      "text/plain": [
       "<Figure size 432x288 with 2 Axes>"
      ]
     },
     "metadata": {
      "needs_background": "light"
     },
     "output_type": "display_data"
    }
   ],
   "source": [
    "ndata = stats.boxcox(odata)\n",
    "fig, ax=plt.subplots(1,2)\n",
    "sns.distplot(odata, ax=ax[0])\n",
    "ax[0].set_title(\"Original Data\")\n",
    "sns.distplot(ndata[0], ax=ax[1])\n",
    "ax[1].set_title(\"Normalized data\")"
   ]
  },
  {
   "cell_type": "markdown",
   "metadata": {},
   "source": [
    "### Dropping a few columns after analysis"
   ]
  },
  {
   "cell_type": "code",
   "execution_count": 194,
   "metadata": {},
   "outputs": [],
   "source": [
    "data=data.drop([\"Flight Direction/Routine\",\"Take off time\",\"Landing time\"],axis=1)"
   ]
  },
  {
   "cell_type": "code",
   "execution_count": 195,
   "metadata": {},
   "outputs": [
    {
     "data": {
      "text/html": [
       "<div>\n",
       "<style scoped>\n",
       "    .dataframe tbody tr th:only-of-type {\n",
       "        vertical-align: middle;\n",
       "    }\n",
       "\n",
       "    .dataframe tbody tr th {\n",
       "        vertical-align: top;\n",
       "    }\n",
       "\n",
       "    .dataframe thead th {\n",
       "        text-align: right;\n",
       "    }\n",
       "</style>\n",
       "<table border=\"1\" class=\"dataframe\">\n",
       "  <thead>\n",
       "    <tr style=\"text-align: right;\">\n",
       "      <th></th>\n",
       "      <th>Air Service</th>\n",
       "      <th>About</th>\n",
       "      <th>Layover</th>\n",
       "      <th>Time span</th>\n",
       "      <th>Cost</th>\n",
       "      <th>Flight Date</th>\n",
       "      <th>Start</th>\n",
       "      <th>Stop</th>\n",
       "    </tr>\n",
       "  </thead>\n",
       "  <tbody>\n",
       "    <tr>\n",
       "      <th>0</th>\n",
       "      <td>IndiGo</td>\n",
       "      <td>No info</td>\n",
       "      <td>non-stop</td>\n",
       "      <td>2h 50m</td>\n",
       "      <td>3897</td>\n",
       "      <td>24/03/2019</td>\n",
       "      <td>Banglore</td>\n",
       "      <td>New Delhi</td>\n",
       "    </tr>\n",
       "    <tr>\n",
       "      <th>1</th>\n",
       "      <td>Air India</td>\n",
       "      <td>No info</td>\n",
       "      <td>2 stops</td>\n",
       "      <td>7h 25m</td>\n",
       "      <td>7662</td>\n",
       "      <td>1/05/2019</td>\n",
       "      <td>Kolkata</td>\n",
       "      <td>Banglore</td>\n",
       "    </tr>\n",
       "    <tr>\n",
       "      <th>2</th>\n",
       "      <td>Jet Airways</td>\n",
       "      <td>No info</td>\n",
       "      <td>2 stops</td>\n",
       "      <td>19h</td>\n",
       "      <td>13882</td>\n",
       "      <td>9/06/2019</td>\n",
       "      <td>Delhi</td>\n",
       "      <td>Cochin</td>\n",
       "    </tr>\n",
       "    <tr>\n",
       "      <th>3</th>\n",
       "      <td>IndiGo</td>\n",
       "      <td>No info</td>\n",
       "      <td>1 stop</td>\n",
       "      <td>5h 25m</td>\n",
       "      <td>6218</td>\n",
       "      <td>12/05/2019</td>\n",
       "      <td>Kolkata</td>\n",
       "      <td>Banglore</td>\n",
       "    </tr>\n",
       "    <tr>\n",
       "      <th>4</th>\n",
       "      <td>IndiGo</td>\n",
       "      <td>No info</td>\n",
       "      <td>1 stop</td>\n",
       "      <td>4h 45m</td>\n",
       "      <td>13302</td>\n",
       "      <td>01/03/2019</td>\n",
       "      <td>Banglore</td>\n",
       "      <td>New Delhi</td>\n",
       "    </tr>\n",
       "  </tbody>\n",
       "</table>\n",
       "</div>"
      ],
      "text/plain": [
       "   Air Service    About   Layover Time span   Cost Flight Date     Start  \\\n",
       "0       IndiGo  No info  non-stop    2h 50m   3897  24/03/2019  Banglore   \n",
       "1    Air India  No info   2 stops    7h 25m   7662   1/05/2019   Kolkata   \n",
       "2  Jet Airways  No info   2 stops       19h  13882   9/06/2019     Delhi   \n",
       "3       IndiGo  No info    1 stop    5h 25m   6218  12/05/2019   Kolkata   \n",
       "4       IndiGo  No info    1 stop    4h 45m  13302  01/03/2019  Banglore   \n",
       "\n",
       "        Stop  \n",
       "0  New Delhi  \n",
       "1   Banglore  \n",
       "2     Cochin  \n",
       "3   Banglore  \n",
       "4  New Delhi  "
      ]
     },
     "execution_count": 195,
     "metadata": {},
     "output_type": "execute_result"
    }
   ],
   "source": [
    "data.head()"
   ]
  },
  {
   "cell_type": "code",
   "execution_count": 196,
   "metadata": {},
   "outputs": [
    {
     "data": {
      "text/plain": [
       "(10682, 8)"
      ]
     },
     "execution_count": 196,
     "metadata": {},
     "output_type": "execute_result"
    }
   ],
   "source": [
    "data.shape"
   ]
  },
  {
   "cell_type": "markdown",
   "metadata": {},
   "source": [
    "### Encoding the different categorical featuries"
   ]
  },
  {
   "cell_type": "code",
   "execution_count": 207,
   "metadata": {},
   "outputs": [
    {
     "data": {
      "text/plain": [
       "array([ 3,  1,  4,  8,  6,  2, 10,  0, 11,  5,  7,  9], dtype=int64)"
      ]
     },
     "execution_count": 207,
     "metadata": {},
     "output_type": "execute_result"
    }
   ],
   "source": [
    "from sklearn import preprocessing \n",
    "categorical_feature_mask = ('non-stop','2 stops','1 stop')\n",
    "label_encoder = preprocessing.LabelEncoder()\n",
    "data['Layover']= label_encoder.fit_transform(data['Layover']) \n",
    "data['Layover'].unique()"
   ]
  },
  {
   "cell_type": "code",
   "execution_count": 208,
   "metadata": {},
   "outputs": [
    {
     "data": {
      "text/html": [
       "<div>\n",
       "<style scoped>\n",
       "    .dataframe tbody tr th:only-of-type {\n",
       "        vertical-align: middle;\n",
       "    }\n",
       "\n",
       "    .dataframe tbody tr th {\n",
       "        vertical-align: top;\n",
       "    }\n",
       "\n",
       "    .dataframe thead th {\n",
       "        text-align: right;\n",
       "    }\n",
       "</style>\n",
       "<table border=\"1\" class=\"dataframe\">\n",
       "  <thead>\n",
       "    <tr style=\"text-align: right;\">\n",
       "      <th></th>\n",
       "      <th>Air Service</th>\n",
       "      <th>About</th>\n",
       "      <th>Layover</th>\n",
       "      <th>Time span</th>\n",
       "      <th>Cost</th>\n",
       "      <th>Flight Date</th>\n",
       "      <th>Start</th>\n",
       "      <th>Stop</th>\n",
       "    </tr>\n",
       "  </thead>\n",
       "  <tbody>\n",
       "    <tr>\n",
       "      <th>0</th>\n",
       "      <td>IndiGo</td>\n",
       "      <td>No info</td>\n",
       "      <td>3</td>\n",
       "      <td>2h 50m</td>\n",
       "      <td>3897</td>\n",
       "      <td>24/03/2019</td>\n",
       "      <td>Banglore</td>\n",
       "      <td>New Delhi</td>\n",
       "    </tr>\n",
       "    <tr>\n",
       "      <th>1</th>\n",
       "      <td>Air India</td>\n",
       "      <td>No info</td>\n",
       "      <td>1</td>\n",
       "      <td>7h 25m</td>\n",
       "      <td>7662</td>\n",
       "      <td>1/05/2019</td>\n",
       "      <td>Kolkata</td>\n",
       "      <td>Banglore</td>\n",
       "    </tr>\n",
       "    <tr>\n",
       "      <th>2</th>\n",
       "      <td>Jet Airways</td>\n",
       "      <td>No info</td>\n",
       "      <td>4</td>\n",
       "      <td>19h</td>\n",
       "      <td>13882</td>\n",
       "      <td>9/06/2019</td>\n",
       "      <td>Delhi</td>\n",
       "      <td>Cochin</td>\n",
       "    </tr>\n",
       "    <tr>\n",
       "      <th>3</th>\n",
       "      <td>IndiGo</td>\n",
       "      <td>No info</td>\n",
       "      <td>3</td>\n",
       "      <td>5h 25m</td>\n",
       "      <td>6218</td>\n",
       "      <td>12/05/2019</td>\n",
       "      <td>Kolkata</td>\n",
       "      <td>Banglore</td>\n",
       "    </tr>\n",
       "    <tr>\n",
       "      <th>4</th>\n",
       "      <td>IndiGo</td>\n",
       "      <td>No info</td>\n",
       "      <td>3</td>\n",
       "      <td>4h 45m</td>\n",
       "      <td>13302</td>\n",
       "      <td>01/03/2019</td>\n",
       "      <td>Banglore</td>\n",
       "      <td>New Delhi</td>\n",
       "    </tr>\n",
       "  </tbody>\n",
       "</table>\n",
       "</div>"
      ],
      "text/plain": [
       "   Air Service    About  Layover Time span   Cost Flight Date     Start  \\\n",
       "0       IndiGo  No info        3    2h 50m   3897  24/03/2019  Banglore   \n",
       "1    Air India  No info        1    7h 25m   7662   1/05/2019   Kolkata   \n",
       "2  Jet Airways  No info        4       19h  13882   9/06/2019     Delhi   \n",
       "3       IndiGo  No info        3    5h 25m   6218  12/05/2019   Kolkata   \n",
       "4       IndiGo  No info        3    4h 45m  13302  01/03/2019  Banglore   \n",
       "\n",
       "        Stop  \n",
       "0  New Delhi  \n",
       "1   Banglore  \n",
       "2     Cochin  \n",
       "3   Banglore  \n",
       "4  New Delhi  "
      ]
     },
     "execution_count": 208,
     "metadata": {},
     "output_type": "execute_result"
    }
   ],
   "source": [
    "data.head()"
   ]
  },
  {
   "cell_type": "code",
   "execution_count": 209,
   "metadata": {},
   "outputs": [
    {
     "data": {
      "text/plain": [
       "array(['IndiGo', 'Air India', 'Jet Airways', 'SpiceJet',\n",
       "       'Multiple carriers', 'GoAir', 'Vistara', 'Air Asia',\n",
       "       'Vistara Premium economy', 'Jet Airways Business',\n",
       "       'Multiple carriers Premium economy', 'Trujet'], dtype=object)"
      ]
     },
     "execution_count": 209,
     "metadata": {},
     "output_type": "execute_result"
    }
   ],
   "source": [
    "data['Air Service'].unique()"
   ]
  },
  {
   "cell_type": "code",
   "execution_count": 210,
   "metadata": {},
   "outputs": [
    {
     "data": {
      "text/plain": [
       "array([ 3,  1,  4,  8,  6,  2, 10,  0, 11,  5,  7,  9], dtype=int64)"
      ]
     },
     "execution_count": 210,
     "metadata": {},
     "output_type": "execute_result"
    }
   ],
   "source": [
    "categorical_service_mask = ('IndiGo', 'Air India', 'Jet Airways', 'SpiceJet',\n",
    "       'Multiple carriers', 'GoAir', 'Vistara', 'Air Asia',\n",
    "       'Vistara Premium economy', 'Jet Airways Business',\n",
    "       'Multiple carriers Premium economy')\n",
    "label_encoder2 = preprocessing.LabelEncoder()\n",
    "data['Air Service']= label_encoder2.fit_transform(data['Air Service']) \n",
    "data['Air Service'].unique()"
   ]
  },
  {
   "cell_type": "code",
   "execution_count": 211,
   "metadata": {},
   "outputs": [
    {
     "data": {
      "text/html": [
       "<div>\n",
       "<style scoped>\n",
       "    .dataframe tbody tr th:only-of-type {\n",
       "        vertical-align: middle;\n",
       "    }\n",
       "\n",
       "    .dataframe tbody tr th {\n",
       "        vertical-align: top;\n",
       "    }\n",
       "\n",
       "    .dataframe thead th {\n",
       "        text-align: right;\n",
       "    }\n",
       "</style>\n",
       "<table border=\"1\" class=\"dataframe\">\n",
       "  <thead>\n",
       "    <tr style=\"text-align: right;\">\n",
       "      <th></th>\n",
       "      <th>Air Service</th>\n",
       "      <th>About</th>\n",
       "      <th>Layover</th>\n",
       "      <th>Time span</th>\n",
       "      <th>Cost</th>\n",
       "      <th>Flight Date</th>\n",
       "      <th>Start</th>\n",
       "      <th>Stop</th>\n",
       "    </tr>\n",
       "  </thead>\n",
       "  <tbody>\n",
       "    <tr>\n",
       "      <th>0</th>\n",
       "      <td>3</td>\n",
       "      <td>No info</td>\n",
       "      <td>3</td>\n",
       "      <td>2h 50m</td>\n",
       "      <td>3897</td>\n",
       "      <td>24/03/2019</td>\n",
       "      <td>Banglore</td>\n",
       "      <td>New Delhi</td>\n",
       "    </tr>\n",
       "    <tr>\n",
       "      <th>1</th>\n",
       "      <td>1</td>\n",
       "      <td>No info</td>\n",
       "      <td>1</td>\n",
       "      <td>7h 25m</td>\n",
       "      <td>7662</td>\n",
       "      <td>1/05/2019</td>\n",
       "      <td>Kolkata</td>\n",
       "      <td>Banglore</td>\n",
       "    </tr>\n",
       "    <tr>\n",
       "      <th>2</th>\n",
       "      <td>4</td>\n",
       "      <td>No info</td>\n",
       "      <td>4</td>\n",
       "      <td>19h</td>\n",
       "      <td>13882</td>\n",
       "      <td>9/06/2019</td>\n",
       "      <td>Delhi</td>\n",
       "      <td>Cochin</td>\n",
       "    </tr>\n",
       "    <tr>\n",
       "      <th>3</th>\n",
       "      <td>3</td>\n",
       "      <td>No info</td>\n",
       "      <td>3</td>\n",
       "      <td>5h 25m</td>\n",
       "      <td>6218</td>\n",
       "      <td>12/05/2019</td>\n",
       "      <td>Kolkata</td>\n",
       "      <td>Banglore</td>\n",
       "    </tr>\n",
       "    <tr>\n",
       "      <th>4</th>\n",
       "      <td>3</td>\n",
       "      <td>No info</td>\n",
       "      <td>3</td>\n",
       "      <td>4h 45m</td>\n",
       "      <td>13302</td>\n",
       "      <td>01/03/2019</td>\n",
       "      <td>Banglore</td>\n",
       "      <td>New Delhi</td>\n",
       "    </tr>\n",
       "  </tbody>\n",
       "</table>\n",
       "</div>"
      ],
      "text/plain": [
       "   Air Service    About  Layover Time span   Cost Flight Date     Start  \\\n",
       "0            3  No info        3    2h 50m   3897  24/03/2019  Banglore   \n",
       "1            1  No info        1    7h 25m   7662   1/05/2019   Kolkata   \n",
       "2            4  No info        4       19h  13882   9/06/2019     Delhi   \n",
       "3            3  No info        3    5h 25m   6218  12/05/2019   Kolkata   \n",
       "4            3  No info        3    4h 45m  13302  01/03/2019  Banglore   \n",
       "\n",
       "        Stop  \n",
       "0  New Delhi  \n",
       "1   Banglore  \n",
       "2     Cochin  \n",
       "3   Banglore  \n",
       "4  New Delhi  "
      ]
     },
     "execution_count": 211,
     "metadata": {},
     "output_type": "execute_result"
    }
   ],
   "source": [
    "data.head()"
   ]
  },
  {
   "cell_type": "code",
   "execution_count": 213,
   "metadata": {},
   "outputs": [],
   "source": [
    "data['Time span']=  data['Time span'].str.replace(\"h\", '*60').str.replace(' ','+').str.replace('m','*1').apply(eval)"
   ]
  },
  {
   "cell_type": "code",
   "execution_count": 214,
   "metadata": {},
   "outputs": [
    {
     "data": {
      "text/html": [
       "<div>\n",
       "<style scoped>\n",
       "    .dataframe tbody tr th:only-of-type {\n",
       "        vertical-align: middle;\n",
       "    }\n",
       "\n",
       "    .dataframe tbody tr th {\n",
       "        vertical-align: top;\n",
       "    }\n",
       "\n",
       "    .dataframe thead th {\n",
       "        text-align: right;\n",
       "    }\n",
       "</style>\n",
       "<table border=\"1\" class=\"dataframe\">\n",
       "  <thead>\n",
       "    <tr style=\"text-align: right;\">\n",
       "      <th></th>\n",
       "      <th>Air Service</th>\n",
       "      <th>About</th>\n",
       "      <th>Layover</th>\n",
       "      <th>Time span</th>\n",
       "      <th>Cost</th>\n",
       "      <th>Flight Date</th>\n",
       "      <th>Start</th>\n",
       "      <th>Stop</th>\n",
       "    </tr>\n",
       "  </thead>\n",
       "  <tbody>\n",
       "    <tr>\n",
       "      <th>0</th>\n",
       "      <td>3</td>\n",
       "      <td>No info</td>\n",
       "      <td>3</td>\n",
       "      <td>170</td>\n",
       "      <td>3897</td>\n",
       "      <td>24/03/2019</td>\n",
       "      <td>Banglore</td>\n",
       "      <td>New Delhi</td>\n",
       "    </tr>\n",
       "    <tr>\n",
       "      <th>1</th>\n",
       "      <td>1</td>\n",
       "      <td>No info</td>\n",
       "      <td>1</td>\n",
       "      <td>445</td>\n",
       "      <td>7662</td>\n",
       "      <td>1/05/2019</td>\n",
       "      <td>Kolkata</td>\n",
       "      <td>Banglore</td>\n",
       "    </tr>\n",
       "    <tr>\n",
       "      <th>2</th>\n",
       "      <td>4</td>\n",
       "      <td>No info</td>\n",
       "      <td>4</td>\n",
       "      <td>1140</td>\n",
       "      <td>13882</td>\n",
       "      <td>9/06/2019</td>\n",
       "      <td>Delhi</td>\n",
       "      <td>Cochin</td>\n",
       "    </tr>\n",
       "    <tr>\n",
       "      <th>3</th>\n",
       "      <td>3</td>\n",
       "      <td>No info</td>\n",
       "      <td>3</td>\n",
       "      <td>325</td>\n",
       "      <td>6218</td>\n",
       "      <td>12/05/2019</td>\n",
       "      <td>Kolkata</td>\n",
       "      <td>Banglore</td>\n",
       "    </tr>\n",
       "    <tr>\n",
       "      <th>4</th>\n",
       "      <td>3</td>\n",
       "      <td>No info</td>\n",
       "      <td>3</td>\n",
       "      <td>285</td>\n",
       "      <td>13302</td>\n",
       "      <td>01/03/2019</td>\n",
       "      <td>Banglore</td>\n",
       "      <td>New Delhi</td>\n",
       "    </tr>\n",
       "  </tbody>\n",
       "</table>\n",
       "</div>"
      ],
      "text/plain": [
       "   Air Service    About  Layover  Time span   Cost Flight Date     Start  \\\n",
       "0            3  No info        3        170   3897  24/03/2019  Banglore   \n",
       "1            1  No info        1        445   7662   1/05/2019   Kolkata   \n",
       "2            4  No info        4       1140  13882   9/06/2019     Delhi   \n",
       "3            3  No info        3        325   6218  12/05/2019   Kolkata   \n",
       "4            3  No info        3        285  13302  01/03/2019  Banglore   \n",
       "\n",
       "        Stop  \n",
       "0  New Delhi  \n",
       "1   Banglore  \n",
       "2     Cochin  \n",
       "3   Banglore  \n",
       "4  New Delhi  "
      ]
     },
     "execution_count": 214,
     "metadata": {},
     "output_type": "execute_result"
    }
   ],
   "source": [
    "data.head()"
   ]
  },
  {
   "cell_type": "code",
   "execution_count": 215,
   "metadata": {},
   "outputs": [
    {
     "data": {
      "text/plain": [
       "array(['No info', 'In-flight meal not included',\n",
       "       'No check-in baggage included', '1 Short layover', 'No Info',\n",
       "       '1 Long layover', 'Change airports', 'Business class',\n",
       "       'Red-eye flight', '2 Long layover'], dtype=object)"
      ]
     },
     "execution_count": 215,
     "metadata": {},
     "output_type": "execute_result"
    }
   ],
   "source": [
    "data['About'].unique()"
   ]
  },
  {
   "cell_type": "code",
   "execution_count": 216,
   "metadata": {},
   "outputs": [
    {
     "data": {
      "text/plain": [
       "array([8, 5, 7, 1, 6, 0, 4, 3, 9, 2], dtype=int64)"
      ]
     },
     "execution_count": 216,
     "metadata": {},
     "output_type": "execute_result"
    }
   ],
   "source": [
    "categorical_about_mask = ('No info', 'In-flight meal not included',\n",
    "       'No check-in baggage included', '1 Short layover', 'No Info',\n",
    "       '1 Long layover', 'Change airports', 'Business class',\n",
    "       'Red-eye flight', '2 Long layover')\n",
    "label_encoder3 = preprocessing.LabelEncoder()\n",
    "data['About']= label_encoder3.fit_transform(data['About']) \n",
    "data['About'].unique()"
   ]
  },
  {
   "cell_type": "code",
   "execution_count": 217,
   "metadata": {},
   "outputs": [
    {
     "data": {
      "text/html": [
       "<div>\n",
       "<style scoped>\n",
       "    .dataframe tbody tr th:only-of-type {\n",
       "        vertical-align: middle;\n",
       "    }\n",
       "\n",
       "    .dataframe tbody tr th {\n",
       "        vertical-align: top;\n",
       "    }\n",
       "\n",
       "    .dataframe thead th {\n",
       "        text-align: right;\n",
       "    }\n",
       "</style>\n",
       "<table border=\"1\" class=\"dataframe\">\n",
       "  <thead>\n",
       "    <tr style=\"text-align: right;\">\n",
       "      <th></th>\n",
       "      <th>Air Service</th>\n",
       "      <th>About</th>\n",
       "      <th>Layover</th>\n",
       "      <th>Time span</th>\n",
       "      <th>Cost</th>\n",
       "      <th>Flight Date</th>\n",
       "      <th>Start</th>\n",
       "      <th>Stop</th>\n",
       "    </tr>\n",
       "  </thead>\n",
       "  <tbody>\n",
       "    <tr>\n",
       "      <th>0</th>\n",
       "      <td>3</td>\n",
       "      <td>8</td>\n",
       "      <td>3</td>\n",
       "      <td>170</td>\n",
       "      <td>3897</td>\n",
       "      <td>24/03/2019</td>\n",
       "      <td>Banglore</td>\n",
       "      <td>New Delhi</td>\n",
       "    </tr>\n",
       "    <tr>\n",
       "      <th>1</th>\n",
       "      <td>1</td>\n",
       "      <td>8</td>\n",
       "      <td>1</td>\n",
       "      <td>445</td>\n",
       "      <td>7662</td>\n",
       "      <td>1/05/2019</td>\n",
       "      <td>Kolkata</td>\n",
       "      <td>Banglore</td>\n",
       "    </tr>\n",
       "    <tr>\n",
       "      <th>2</th>\n",
       "      <td>4</td>\n",
       "      <td>8</td>\n",
       "      <td>4</td>\n",
       "      <td>1140</td>\n",
       "      <td>13882</td>\n",
       "      <td>9/06/2019</td>\n",
       "      <td>Delhi</td>\n",
       "      <td>Cochin</td>\n",
       "    </tr>\n",
       "    <tr>\n",
       "      <th>3</th>\n",
       "      <td>3</td>\n",
       "      <td>8</td>\n",
       "      <td>3</td>\n",
       "      <td>325</td>\n",
       "      <td>6218</td>\n",
       "      <td>12/05/2019</td>\n",
       "      <td>Kolkata</td>\n",
       "      <td>Banglore</td>\n",
       "    </tr>\n",
       "    <tr>\n",
       "      <th>4</th>\n",
       "      <td>3</td>\n",
       "      <td>8</td>\n",
       "      <td>3</td>\n",
       "      <td>285</td>\n",
       "      <td>13302</td>\n",
       "      <td>01/03/2019</td>\n",
       "      <td>Banglore</td>\n",
       "      <td>New Delhi</td>\n",
       "    </tr>\n",
       "  </tbody>\n",
       "</table>\n",
       "</div>"
      ],
      "text/plain": [
       "   Air Service  About  Layover  Time span   Cost Flight Date     Start  \\\n",
       "0            3      8        3        170   3897  24/03/2019  Banglore   \n",
       "1            1      8        1        445   7662   1/05/2019   Kolkata   \n",
       "2            4      8        4       1140  13882   9/06/2019     Delhi   \n",
       "3            3      8        3        325   6218  12/05/2019   Kolkata   \n",
       "4            3      8        3        285  13302  01/03/2019  Banglore   \n",
       "\n",
       "        Stop  \n",
       "0  New Delhi  \n",
       "1   Banglore  \n",
       "2     Cochin  \n",
       "3   Banglore  \n",
       "4  New Delhi  "
      ]
     },
     "execution_count": 217,
     "metadata": {},
     "output_type": "execute_result"
    }
   ],
   "source": [
    "data.head()"
   ]
  },
  {
   "cell_type": "code",
   "execution_count": 218,
   "metadata": {},
   "outputs": [],
   "source": [
    "data=data.drop([\"Flight Date\"],axis=1)"
   ]
  },
  {
   "cell_type": "code",
   "execution_count": 219,
   "metadata": {},
   "outputs": [
    {
     "data": {
      "text/html": [
       "<div>\n",
       "<style scoped>\n",
       "    .dataframe tbody tr th:only-of-type {\n",
       "        vertical-align: middle;\n",
       "    }\n",
       "\n",
       "    .dataframe tbody tr th {\n",
       "        vertical-align: top;\n",
       "    }\n",
       "\n",
       "    .dataframe thead th {\n",
       "        text-align: right;\n",
       "    }\n",
       "</style>\n",
       "<table border=\"1\" class=\"dataframe\">\n",
       "  <thead>\n",
       "    <tr style=\"text-align: right;\">\n",
       "      <th></th>\n",
       "      <th>Air Service</th>\n",
       "      <th>About</th>\n",
       "      <th>Layover</th>\n",
       "      <th>Time span</th>\n",
       "      <th>Cost</th>\n",
       "      <th>Start</th>\n",
       "      <th>Stop</th>\n",
       "    </tr>\n",
       "  </thead>\n",
       "  <tbody>\n",
       "    <tr>\n",
       "      <th>0</th>\n",
       "      <td>3</td>\n",
       "      <td>8</td>\n",
       "      <td>3</td>\n",
       "      <td>170</td>\n",
       "      <td>3897</td>\n",
       "      <td>Banglore</td>\n",
       "      <td>New Delhi</td>\n",
       "    </tr>\n",
       "    <tr>\n",
       "      <th>1</th>\n",
       "      <td>1</td>\n",
       "      <td>8</td>\n",
       "      <td>1</td>\n",
       "      <td>445</td>\n",
       "      <td>7662</td>\n",
       "      <td>Kolkata</td>\n",
       "      <td>Banglore</td>\n",
       "    </tr>\n",
       "    <tr>\n",
       "      <th>2</th>\n",
       "      <td>4</td>\n",
       "      <td>8</td>\n",
       "      <td>4</td>\n",
       "      <td>1140</td>\n",
       "      <td>13882</td>\n",
       "      <td>Delhi</td>\n",
       "      <td>Cochin</td>\n",
       "    </tr>\n",
       "    <tr>\n",
       "      <th>3</th>\n",
       "      <td>3</td>\n",
       "      <td>8</td>\n",
       "      <td>3</td>\n",
       "      <td>325</td>\n",
       "      <td>6218</td>\n",
       "      <td>Kolkata</td>\n",
       "      <td>Banglore</td>\n",
       "    </tr>\n",
       "    <tr>\n",
       "      <th>4</th>\n",
       "      <td>3</td>\n",
       "      <td>8</td>\n",
       "      <td>3</td>\n",
       "      <td>285</td>\n",
       "      <td>13302</td>\n",
       "      <td>Banglore</td>\n",
       "      <td>New Delhi</td>\n",
       "    </tr>\n",
       "  </tbody>\n",
       "</table>\n",
       "</div>"
      ],
      "text/plain": [
       "   Air Service  About  Layover  Time span   Cost     Start       Stop\n",
       "0            3      8        3        170   3897  Banglore  New Delhi\n",
       "1            1      8        1        445   7662   Kolkata   Banglore\n",
       "2            4      8        4       1140  13882     Delhi     Cochin\n",
       "3            3      8        3        325   6218   Kolkata   Banglore\n",
       "4            3      8        3        285  13302  Banglore  New Delhi"
      ]
     },
     "execution_count": 219,
     "metadata": {},
     "output_type": "execute_result"
    }
   ],
   "source": [
    "data.head()"
   ]
  },
  {
   "cell_type": "code",
   "execution_count": 226,
   "metadata": {},
   "outputs": [],
   "source": [
    "data['Start']=  data['Start'].str.replace(\"New Delhi\", 'Delhi')\n",
    "data['Stop']=  data['Stop'].str.replace(\"New Delhi\", 'Delhi')"
   ]
  },
  {
   "cell_type": "code",
   "execution_count": 227,
   "metadata": {},
   "outputs": [
    {
     "name": "stdout",
     "output_type": "stream",
     "text": [
      "['Banglore' 'Kolkata' 'Delhi' 'Chennai' 'Mumbai']\n",
      "['Delhi' 'Banglore' 'Cochin' 'Kolkata' 'Hyderabad']\n"
     ]
    }
   ],
   "source": [
    "print(data['Start'].unique())\n",
    "print(data['Stop'].unique())"
   ]
  },
  {
   "cell_type": "code",
   "execution_count": 228,
   "metadata": {},
   "outputs": [
    {
     "data": {
      "text/plain": [
       "array([2, 0, 1, 4, 3], dtype=int64)"
      ]
     },
     "execution_count": 228,
     "metadata": {},
     "output_type": "execute_result"
    }
   ],
   "source": [
    "categorical_about_mask = ('Banglore','Kolkata','Delhi','Chennai','Mumbai','Cochin','Hyderabad')\n",
    "label_encoder4 = preprocessing.LabelEncoder()\n",
    "data['Start']= label_encoder4.fit_transform(data['Start']) \n",
    "data['Start'].unique()\n",
    "data['Stop']= label_encoder4.fit_transform(data['Stop']) \n",
    "data['Stop'].unique()"
   ]
  },
  {
   "cell_type": "code",
   "execution_count": 229,
   "metadata": {},
   "outputs": [
    {
     "data": {
      "text/html": [
       "<div>\n",
       "<style scoped>\n",
       "    .dataframe tbody tr th:only-of-type {\n",
       "        vertical-align: middle;\n",
       "    }\n",
       "\n",
       "    .dataframe tbody tr th {\n",
       "        vertical-align: top;\n",
       "    }\n",
       "\n",
       "    .dataframe thead th {\n",
       "        text-align: right;\n",
       "    }\n",
       "</style>\n",
       "<table border=\"1\" class=\"dataframe\">\n",
       "  <thead>\n",
       "    <tr style=\"text-align: right;\">\n",
       "      <th></th>\n",
       "      <th>Air Service</th>\n",
       "      <th>About</th>\n",
       "      <th>Layover</th>\n",
       "      <th>Time span</th>\n",
       "      <th>Cost</th>\n",
       "      <th>Start</th>\n",
       "      <th>Stop</th>\n",
       "    </tr>\n",
       "  </thead>\n",
       "  <tbody>\n",
       "    <tr>\n",
       "      <th>0</th>\n",
       "      <td>3</td>\n",
       "      <td>8</td>\n",
       "      <td>3</td>\n",
       "      <td>170</td>\n",
       "      <td>3897</td>\n",
       "      <td>0</td>\n",
       "      <td>2</td>\n",
       "    </tr>\n",
       "    <tr>\n",
       "      <th>1</th>\n",
       "      <td>1</td>\n",
       "      <td>8</td>\n",
       "      <td>1</td>\n",
       "      <td>445</td>\n",
       "      <td>7662</td>\n",
       "      <td>3</td>\n",
       "      <td>0</td>\n",
       "    </tr>\n",
       "    <tr>\n",
       "      <th>2</th>\n",
       "      <td>4</td>\n",
       "      <td>8</td>\n",
       "      <td>4</td>\n",
       "      <td>1140</td>\n",
       "      <td>13882</td>\n",
       "      <td>2</td>\n",
       "      <td>1</td>\n",
       "    </tr>\n",
       "    <tr>\n",
       "      <th>3</th>\n",
       "      <td>3</td>\n",
       "      <td>8</td>\n",
       "      <td>3</td>\n",
       "      <td>325</td>\n",
       "      <td>6218</td>\n",
       "      <td>3</td>\n",
       "      <td>0</td>\n",
       "    </tr>\n",
       "    <tr>\n",
       "      <th>4</th>\n",
       "      <td>3</td>\n",
       "      <td>8</td>\n",
       "      <td>3</td>\n",
       "      <td>285</td>\n",
       "      <td>13302</td>\n",
       "      <td>0</td>\n",
       "      <td>2</td>\n",
       "    </tr>\n",
       "  </tbody>\n",
       "</table>\n",
       "</div>"
      ],
      "text/plain": [
       "   Air Service  About  Layover  Time span   Cost  Start  Stop\n",
       "0            3      8        3        170   3897      0     2\n",
       "1            1      8        1        445   7662      3     0\n",
       "2            4      8        4       1140  13882      2     1\n",
       "3            3      8        3        325   6218      3     0\n",
       "4            3      8        3        285  13302      0     2"
      ]
     },
     "execution_count": 229,
     "metadata": {},
     "output_type": "execute_result"
    }
   ],
   "source": [
    "data.head()"
   ]
  },
  {
   "cell_type": "markdown",
   "metadata": {},
   "source": [
    "### What have I done?\n",
    "#### Dropped all the columns which are not required. Parsed the time and converted it into minutes since the string cannot be read. Converting all the Categorical values into numerical values using Label Encoders which can be then used in the training Regression model. Most of the columns can be used in order to use it for a regression training model and the overall cost can be predicted. Basic data cleaning and anomalies have been checked and the null values can be dropped. "
   ]
  },
  {
   "cell_type": "code",
   "execution_count": null,
   "metadata": {},
   "outputs": [],
   "source": []
  }
 ],
 "metadata": {
  "kernelspec": {
   "display_name": "Python 3",
   "language": "python",
   "name": "python3"
  },
  "language_info": {
   "codemirror_mode": {
    "name": "ipython",
    "version": 3
   },
   "file_extension": ".py",
   "mimetype": "text/x-python",
   "name": "python",
   "nbconvert_exporter": "python",
   "pygments_lexer": "ipython3",
   "version": "3.7.7"
  }
 },
 "nbformat": 4,
 "nbformat_minor": 2
}
